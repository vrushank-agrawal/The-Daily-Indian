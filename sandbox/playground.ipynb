{
 "cells": [
  {
   "cell_type": "code",
   "execution_count": 2,
   "metadata": {},
   "outputs": [],
   "source": [
    "import json\n",
    "import pandas as pd\n",
    "import os\n",
    "from dotenv import load_dotenv\n",
    "# from huggingface_hub import InferenceClient\n",
    "from datetime import datetime, timezone, timedelta\n",
    "load_dotenv()\n",
    "\n",
    "HF_READ=os.getenv('HUGGINGFACE_READ_API_KEY')\n",
    "HF_WRITE=os.getenv('HUGGINGFACE_WRITE_API_KEY')\n",
    "\n",
    "date = datetime.now(timezone.utc).strftime(\"%Y-%m-%d\")\n",
    "yesterday = (datetime.now(timezone.utc) - timedelta(days=1)).strftime(\"%Y-%m-%d\")\n",
    "\n",
    "# with open(f'../data/newsdataio/sentiment/{date}.json', 'r') as f:\n",
    "with open(f'../data/newsdataio/sentiment/{yesterday}.json', 'r') as f:\n",
    "    data = json.load(f)"
   ]
  },
  {
   "cell_type": "code",
   "execution_count": 3,
   "metadata": {},
   "outputs": [],
   "source": [
    "# # Do sentiment analysis using Hugging Face Hub\n",
    "# descriptions = df['description']\n",
    "\n",
    "# client = InferenceClient(model=\"cardiffnlp/twitter-roberta-base-sentiment-latest\", token=HF_READ)\n",
    "# result = client.text_classification(descriptions.tolist())\n",
    "\n",
    "# print(result)"
   ]
  },
  {
   "cell_type": "code",
   "execution_count": 4,
   "metadata": {},
   "outputs": [],
   "source": [
    "df = pd.DataFrame(data)"
   ]
  },
  {
   "cell_type": "code",
   "execution_count": 15,
   "metadata": {},
   "outputs": [],
   "source": [
    "# how many dimensions of df['sentiment']\n",
    "df['sentiment'].shape\n",
    "# df['sentiment'][0].shape\n",
    "# convert all values of list items of sentiment to a tuple\n",
    "df['sentiment'] = df['sentiment'].apply(lambda x: tuple(x))"
   ]
  },
  {
   "cell_type": "code",
   "execution_count": 19,
   "metadata": {},
   "outputs": [
    {
     "data": {
      "text/plain": [
       "0     (neutral, negative)\n",
       "1    (positive, positive)\n",
       "2    (negative, negative)\n",
       "3      (neutral, neutral)\n",
       "4     (neutral, positive)\n",
       "Name: sentiment, dtype: object"
      ]
     },
     "execution_count": 19,
     "metadata": {},
     "output_type": "execute_result"
    }
   ],
   "source": [
    "# print the value of the first five columns of df['sentiment']\n",
    "df['sentiment'].head()"
   ]
  },
  {
   "cell_type": "code",
   "execution_count": 28,
   "metadata": {},
   "outputs": [],
   "source": [
    "# for all df['sentiment'] == ['positive', 'positive'] for df['source_name'] == 'Business Standard', print title and link\n",
    "pd.set_option('display.max_colwidth', None)"
   ]
  },
  {
   "cell_type": "code",
   "execution_count": null,
   "metadata": {},
   "outputs": [],
   "source": [
    "# TODO condition to filter -> Remove all market news from business standard\n",
    "df[(df['sentiment'].apply(lambda x: x == ('positive', 'positive'))) & (df['source_name'] == 'Business Standard') & (df['link'].str.startswith('https://www.business-standard.com/markets/'))][['title', 'link', 'sentiment_score']]"
   ]
  },
  {
   "cell_type": "code",
   "execution_count": 34,
   "metadata": {},
   "outputs": [
    {
     "data": {
      "text/html": [
       "<div>\n",
       "<style scoped>\n",
       "    .dataframe tbody tr th:only-of-type {\n",
       "        vertical-align: middle;\n",
       "    }\n",
       "\n",
       "    .dataframe tbody tr th {\n",
       "        vertical-align: top;\n",
       "    }\n",
       "\n",
       "    .dataframe thead th {\n",
       "        text-align: right;\n",
       "    }\n",
       "</style>\n",
       "<table border=\"1\" class=\"dataframe\">\n",
       "  <thead>\n",
       "    <tr style=\"text-align: right;\">\n",
       "      <th></th>\n",
       "      <th>title</th>\n",
       "      <th>source_name</th>\n",
       "      <th>sentiment_score</th>\n",
       "    </tr>\n",
       "  </thead>\n",
       "  <tbody>\n",
       "    <tr>\n",
       "      <th>69</th>\n",
       "      <td>PM Modi to hit campaign trail in J&amp;K's Doda amid multi-tier security</td>\n",
       "      <td>The Hindu</td>\n",
       "      <td>[0.7880938649177551, 0.536814272403717]</td>\n",
       "    </tr>\n",
       "    <tr>\n",
       "      <th>593</th>\n",
       "      <td>Wang Yi, Ajit Doval agree to work for improvement of bilateral ties: Chinese Foreign Ministry</td>\n",
       "      <td>The Hindu</td>\n",
       "      <td>[0.7022740244865417, 0.9352766871452332]</td>\n",
       "    </tr>\n",
       "    <tr>\n",
       "      <th>692</th>\n",
       "      <td>Arvind Kejriwal bail: ‘Truth wins again,’ says Sisodia as AAP leaders praise SC verdict</td>\n",
       "      <td>The Hindu</td>\n",
       "      <td>[0.6497920155525208, 0.498096227645874]</td>\n",
       "    </tr>\n",
       "    <tr>\n",
       "      <th>710</th>\n",
       "      <td>Supreme Court grants bail to Arvind Kejriwal in Delhi excise policy corruption case</td>\n",
       "      <td>The Hindu</td>\n",
       "      <td>[0.422940731048584, 0.8824357390403748]</td>\n",
       "    </tr>\n",
       "  </tbody>\n",
       "</table>\n",
       "</div>"
      ],
      "text/plain": [
       "                                                                                             title  \\\n",
       "69                            PM Modi to hit campaign trail in J&K's Doda amid multi-tier security   \n",
       "593  Wang Yi, Ajit Doval agree to work for improvement of bilateral ties: Chinese Foreign Ministry   \n",
       "692        Arvind Kejriwal bail: ‘Truth wins again,’ says Sisodia as AAP leaders praise SC verdict   \n",
       "710            Supreme Court grants bail to Arvind Kejriwal in Delhi excise policy corruption case   \n",
       "\n",
       "    source_name                           sentiment_score  \n",
       "69    The Hindu   [0.7880938649177551, 0.536814272403717]  \n",
       "593   The Hindu  [0.7022740244865417, 0.9352766871452332]  \n",
       "692   The Hindu   [0.6497920155525208, 0.498096227645874]  \n",
       "710   The Hindu   [0.422940731048584, 0.8824357390403748]  "
      ]
     },
     "execution_count": 34,
     "metadata": {},
     "output_type": "execute_result"
    }
   ],
   "source": [
    "# TODO condition to filter -> Remove all politics news\n",
    "df[(df['sentiment'].apply(lambda x: x == ('positive', 'positive'))) & (df['category'] == 'politics')][['title', 'source_name', 'sentiment_score']]"
   ]
  },
  {
   "cell_type": "code",
   "execution_count": 40,
   "metadata": {},
   "outputs": [
    {
     "data": {
      "text/plain": [
       "['business',\n",
       " 'top',\n",
       " 'politics',\n",
       " 'sports',\n",
       " 'kerala',\n",
       " 'delhi',\n",
       " 'tamil nadu',\n",
       " 'coimbatore',\n",
       " 'chennai',\n",
       " 'science',\n",
       " 'assam',\n",
       " 'entertainment',\n",
       " 'technology']"
      ]
     },
     "execution_count": 40,
     "metadata": {},
     "output_type": "execute_result"
    }
   ],
   "source": [
    "df[(df['sentiment'].apply(lambda x: x == ('positive', 'positive')))]['category'].value_counts().index.tolist()"
   ]
  },
  {
   "cell_type": "code",
   "execution_count": 43,
   "metadata": {},
   "outputs": [
    {
     "data": {
      "text/html": [
       "<div>\n",
       "<style scoped>\n",
       "    .dataframe tbody tr th:only-of-type {\n",
       "        vertical-align: middle;\n",
       "    }\n",
       "\n",
       "    .dataframe tbody tr th {\n",
       "        vertical-align: top;\n",
       "    }\n",
       "\n",
       "    .dataframe thead th {\n",
       "        text-align: right;\n",
       "    }\n",
       "</style>\n",
       "<table border=\"1\" class=\"dataframe\">\n",
       "  <thead>\n",
       "    <tr style=\"text-align: right;\">\n",
       "      <th></th>\n",
       "      <th>title</th>\n",
       "      <th>source_name</th>\n",
       "      <th>sentiment_score</th>\n",
       "    </tr>\n",
       "  </thead>\n",
       "  <tbody>\n",
       "    <tr>\n",
       "      <th>69</th>\n",
       "      <td>PM Modi to hit campaign trail in J&amp;K's Doda amid multi-tier security</td>\n",
       "      <td>The Hindu</td>\n",
       "      <td>[0.7880938649177551, 0.536814272403717]</td>\n",
       "    </tr>\n",
       "    <tr>\n",
       "      <th>593</th>\n",
       "      <td>Wang Yi, Ajit Doval agree to work for improvement of bilateral ties: Chinese Foreign Ministry</td>\n",
       "      <td>The Hindu</td>\n",
       "      <td>[0.7022740244865417, 0.9352766871452332]</td>\n",
       "    </tr>\n",
       "    <tr>\n",
       "      <th>692</th>\n",
       "      <td>Arvind Kejriwal bail: ‘Truth wins again,’ says Sisodia as AAP leaders praise SC verdict</td>\n",
       "      <td>The Hindu</td>\n",
       "      <td>[0.6497920155525208, 0.498096227645874]</td>\n",
       "    </tr>\n",
       "    <tr>\n",
       "      <th>710</th>\n",
       "      <td>Supreme Court grants bail to Arvind Kejriwal in Delhi excise policy corruption case</td>\n",
       "      <td>The Hindu</td>\n",
       "      <td>[0.422940731048584, 0.8824357390403748]</td>\n",
       "    </tr>\n",
       "  </tbody>\n",
       "</table>\n",
       "</div>"
      ],
      "text/plain": [
       "                                                                                             title  \\\n",
       "69                            PM Modi to hit campaign trail in J&K's Doda amid multi-tier security   \n",
       "593  Wang Yi, Ajit Doval agree to work for improvement of bilateral ties: Chinese Foreign Ministry   \n",
       "692        Arvind Kejriwal bail: ‘Truth wins again,’ says Sisodia as AAP leaders praise SC verdict   \n",
       "710            Supreme Court grants bail to Arvind Kejriwal in Delhi excise policy corruption case   \n",
       "\n",
       "    source_name                           sentiment_score  \n",
       "69    The Hindu   [0.7880938649177551, 0.536814272403717]  \n",
       "593   The Hindu  [0.7022740244865417, 0.9352766871452332]  \n",
       "692   The Hindu   [0.6497920155525208, 0.498096227645874]  \n",
       "710   The Hindu   [0.422940731048584, 0.8824357390403748]  "
      ]
     },
     "execution_count": 43,
     "metadata": {},
     "output_type": "execute_result"
    }
   ],
   "source": [
    "df[(df['sentiment'].apply(lambda x: x == ('positive', 'positive'))) & (df['category'] == 'politics')][['title', 'source_name', 'sentiment_score']]"
   ]
  },
  {
   "cell_type": "code",
   "execution_count": null,
   "metadata": {},
   "outputs": [],
   "source": [
    "# List of all categories\n",
    "df['category'].value_counts().index.tolist()"
   ]
  },
  {
   "cell_type": "code",
   "execution_count": null,
   "metadata": {},
   "outputs": [],
   "source": [
    "from sentence_transformers import SentenceTransformer\n",
    "sentences = [\"This is an example sentence\", \"Each sentence is converted\"]\n",
    "\n",
    "model = SentenceTransformer('sentence-transformers/all-mpnet-base-v2')\n",
    "embeddings = model.encode(sentences)\n",
    "print(embeddings)"
   ]
  },
  {
   "cell_type": "code",
   "execution_count": 3,
   "metadata": {},
   "outputs": [
    {
     "name": "stdout",
     "output_type": "stream",
     "text": [
      "tensor([[1.0000, 0.4049],\n",
      "        [0.4049, 1.0000]])\n"
     ]
    }
   ],
   "source": [
    "similarities = model.similarity(embeddings, embeddings)\n",
    "print(similarities)"
   ]
  },
  {
   "cell_type": "code",
   "execution_count": null,
   "metadata": {},
   "outputs": [],
   "source": []
  }
 ],
 "metadata": {
  "kernelspec": {
   "display_name": ".venv",
   "language": "python",
   "name": "python3"
  },
  "language_info": {
   "codemirror_mode": {
    "name": "ipython",
    "version": 3
   },
   "file_extension": ".py",
   "mimetype": "text/x-python",
   "name": "python",
   "nbconvert_exporter": "python",
   "pygments_lexer": "ipython3",
   "version": "3.10.12"
  }
 },
 "nbformat": 4,
 "nbformat_minor": 2
}
