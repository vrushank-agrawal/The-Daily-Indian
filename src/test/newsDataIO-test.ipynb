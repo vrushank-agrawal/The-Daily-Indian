{
 "cells": [
  {
   "cell_type": "code",
   "execution_count": 3,
   "metadata": {},
   "outputs": [],
   "source": [
    "import json\n",
    "import pandas as pd\n",
    "\n",
    "with open('../../data/newsdataio/articles.json') as f:\n",
    "    data = json.load(f)\n",
    "\n",
    "df = pd.DataFrame(data['articles'])"
   ]
  },
  {
   "cell_type": "code",
   "execution_count": 4,
   "metadata": {},
   "outputs": [],
   "source": [
    "# remove columns ai_tag, sentiment, sentiment_stats, ai_region, ai_org, content, image_url, source_icon\n",
    "df = df.drop(columns=['ai_tag', 'sentiment', 'sentiment_stats', 'ai_region', 'ai_org', 'content', 'image_url', 'source_icon'])"
   ]
  },
  {
   "cell_type": "code",
   "execution_count": 5,
   "metadata": {},
   "outputs": [
    {
     "data": {
      "text/plain": [
       "category\n",
       "[top]                                 72\n",
       "[entertainment]                        9\n",
       "[business]                             7\n",
       "[world]                                6\n",
       "[sports]                               4\n",
       "[science]                              1\n",
       "[entertainment, environment, food]     1\n",
       "Name: count, dtype: int64"
      ]
     },
     "execution_count": 5,
     "metadata": {},
     "output_type": "execute_result"
    }
   ],
   "source": [
    "# find the frequency of articles from category\n",
    "df.category.value_counts()"
   ]
  },
  {
   "cell_type": "code",
   "execution_count": 6,
   "metadata": {},
   "outputs": [
    {
     "data": {
      "text/plain": [
       "duplicate\n",
       "False    93\n",
       "True      7\n",
       "Name: count, dtype: int64"
      ]
     },
     "execution_count": 6,
     "metadata": {},
     "output_type": "execute_result"
    }
   ],
   "source": [
    "df.duplicate.value_counts()"
   ]
  },
  {
   "cell_type": "code",
   "execution_count": 8,
   "metadata": {},
   "outputs": [
    {
     "data": {
      "text/plain": [
       "source_id\n",
       "google                      12\n",
       "newsbytesapp                10\n",
       "theweek_in                   8\n",
       "toi                          8\n",
       "ibtimes                      6\n",
       "latestly                     6\n",
       "hindustantimes               5\n",
       "news18                       4\n",
       "freepressjournal             3\n",
       "newsable_asianetnews         3\n",
       "siasat                       2\n",
       "sentinel                     2\n",
       "indiatvnews                  2\n",
       "ndtv                         2\n",
       "indiatodayne                 2\n",
       "yahoo                        2\n",
       "businessinsider_in           2\n",
       "economictimes_indiatimes     2\n",
       "news9live                    1\n",
       "goodreturns                  1\n",
       "catchnews                    1\n",
       "deccanchronicle              1\n",
       "zeenews                      1\n",
       "assamtribune                 1\n",
       "in_ign                       1\n",
       "thehindu                     1\n",
       "greaterkashmir               1\n",
       "kashmirobserver              1\n",
       "en_prnasisa                  1\n",
       "livemint                     1\n",
       "washingtontimes              1\n",
       "odishabytes                  1\n",
       "in_mashable                  1\n",
       "firstpost                    1\n",
       "onmanorama                   1\n",
       "abplive                      1\n",
       "telanganatoday               1\n",
       "Name: count, dtype: int64"
      ]
     },
     "execution_count": 8,
     "metadata": {},
     "output_type": "execute_result"
    }
   ],
   "source": [
    "df.source_id.value_counts()"
   ]
  },
  {
   "cell_type": "code",
   "execution_count": 10,
   "metadata": {},
   "outputs": [
    {
     "data": {
      "text/plain": [
       "title\n",
       "Deep depression crosses Odisha coast near Puri                                                                      1\n",
       "Star Housing Finance Limited Crosses Rs.500 Crs Aum Milestone                                                       1\n",
       "Kolkata rape-murder: SC asks protesting doctors to return to work by 5 pm tomorrow, warns of disciplinary action    1\n",
       "Rock Star Tells Rockstar to ‘Go F*** Yourself’ After ‘Extremely Low’ Offer to Use Hit Song in GTA 6                 1\n",
       "After Rahul Vaidya, wife Disha Parmar diagnosed with dengue                                                         1\n",
       "Warren Buffett's $5.4 Billion Warning to Wall Street Foreshadows Trouble to Come                                    1\n",
       "Nvidia Doubled Its Money on This Artificial Intelligence (AI) Stock. Should You Buy It Too?                         1\n",
       "Name: count, dtype: int64"
      ]
     },
     "execution_count": 10,
     "metadata": {},
     "output_type": "execute_result"
    }
   ],
   "source": [
    "# find the values of all source_ids for duplicate articles\n",
    "df[df.duplicate == True].title.value_counts()"
   ]
  },
  {
   "cell_type": "code",
   "execution_count": null,
   "metadata": {},
   "outputs": [],
   "source": []
  }
 ],
 "metadata": {
  "kernelspec": {
   "display_name": ".venv",
   "language": "python",
   "name": "python3"
  },
  "language_info": {
   "codemirror_mode": {
    "name": "ipython",
    "version": 3
   },
   "file_extension": ".py",
   "mimetype": "text/x-python",
   "name": "python",
   "nbconvert_exporter": "python",
   "pygments_lexer": "ipython3",
   "version": "3.10.12"
  }
 },
 "nbformat": 4,
 "nbformat_minor": 2
}
