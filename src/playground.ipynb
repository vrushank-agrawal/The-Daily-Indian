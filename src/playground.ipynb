{
 "cells": [
  {
   "cell_type": "code",
   "execution_count": 36,
   "metadata": {},
   "outputs": [],
   "source": [
    "import json\n",
    "import pandas as pd\n",
    "import os\n",
    "from dotenv import load_dotenv\n",
    "from sentence_similarity import SentenceSimilarity\n",
    "\n",
    "from datetime import datetime, timezone, timedelta\n",
    "load_dotenv()\n",
    "\n",
    "date = datetime.now(timezone.utc).strftime(\"%Y-%m-%d\")\n",
    "yesterday = (datetime.now(timezone.utc) - timedelta(days=1)).strftime(\"%Y-%m-%d\")\n",
    "\n",
    "# with open(f'../data/newsdataio/sentiment/{date}.json', 'r') as f:\n",
    "with open(f'../data/newsdataio/filtered/{yesterday}.json', 'r') as f:\n",
    "    data = json.load(f)"
   ]
  },
  {
   "cell_type": "code",
   "execution_count": 37,
   "metadata": {},
   "outputs": [],
   "source": [
    "# do sentence similarity\n",
    "sentence_similarity = SentenceSimilarity(data)\n",
    "sentence_similarity.run()\n",
    "similar_articles = getattr(sentence_similarity, '_SentenceSimilarity__similar_articles')"
   ]
  },
  {
   "cell_type": "code",
   "execution_count": 38,
   "metadata": {},
   "outputs": [],
   "source": [
    "df = pd.DataFrame(data)"
   ]
  },
  {
   "cell_type": "code",
   "execution_count": 39,
   "metadata": {},
   "outputs": [],
   "source": [
    "# sort similar articles list in descending order\n",
    "similar_articles.sort(key=lambda x: len(x), reverse=True)"
   ]
  },
  {
   "cell_type": "code",
   "execution_count": 40,
   "metadata": {},
   "outputs": [
    {
     "name": "stdout",
     "output_type": "stream",
     "text": [
      "288\n"
     ]
    }
   ],
   "source": [
    "print(df.shape[0])"
   ]
  },
  {
   "cell_type": "code",
   "execution_count": 44,
   "metadata": {},
   "outputs": [
    {
     "data": {
      "text/plain": [
       "92"
      ]
     },
     "execution_count": 44,
     "metadata": {},
     "output_type": "execute_result"
    }
   ],
   "source": [
    "from copy import deepcopy\n",
    "analyzed_articles = deepcopy(similar_articles)\n",
    "len(analyzed_articles)"
   ]
  },
  {
   "cell_type": "code",
   "execution_count": 50,
   "metadata": {},
   "outputs": [
    {
     "data": {
      "text/plain": [
       "92"
      ]
     },
     "execution_count": 50,
     "metadata": {},
     "output_type": "execute_result"
    }
   ],
   "source": [
    "similar_articles = deepcopy(analyzed_articles)\n",
    "len(similar_articles)"
   ]
  },
  {
   "cell_type": "code",
   "execution_count": 51,
   "metadata": {},
   "outputs": [
    {
     "name": "stdout",
     "output_type": "stream",
     "text": [
      "Combined 0 and 1\n",
      "Combined 0 and 2\n",
      "Combined 0 and 3\n",
      "Combined 0 and 5\n",
      "Combined 0 and 12\n",
      "Number of categories: 87\n"
     ]
    }
   ],
   "source": [
    "for i in range(len(similar_articles)):\n",
    "    for j in range(i+1, len(similar_articles)):\n",
    "        i_articles = set(similar_articles[i])\n",
    "        j_articles = set(similar_articles[j])\n",
    "\n",
    "        if not j_articles:\n",
    "            continue\n",
    "\n",
    "        if i_articles.intersection(j_articles):\n",
    "            similar_articles[i] += similar_articles[j]\n",
    "            similar_articles[j] = []\n",
    "            print(\"Combined {} and {}\".format(i, j))\n",
    "\n",
    "new_art = [x for x in similar_articles if x]\n",
    "print(\"Number of categories: {}\".format(len(new_art)))"
   ]
  },
  {
   "cell_type": "code",
   "execution_count": 52,
   "metadata": {},
   "outputs": [
    {
     "name": "stdout",
     "output_type": "stream",
     "text": [
      "[[9, 21, 30, 31, 43, 46, 50, 60, 62, 112, 116, 124, 133, 140, 149, 150, 162, 165, 169, 179, 181, 231, 235, 243, 252, 253, 265, 268, 272, 282, 284, 0, 30, 43, 60, 62, 103, 109, 112, 149, 162, 179, 181, 217, 222, 228, 231, 252, 265, 282, 284, 98, 21, 46, 60, 112, 116, 119, 123, 140, 165, 179, 231, 235, 236, 238, 242, 243, 268, 282, 117, 43, 46, 50, 60, 158, 162, 165, 169, 179, 261, 265, 268, 272, 282, 39, 9, 31, 133, 146, 150, 249, 253, 27, 119, 207, 238, 88], [6, 25, 33, 77, 125, 130, 144, 152, 196, 247, 255, 1], [28, 65, 147, 184, 250, 287, 16], [34, 142, 153, 245, 256, 23], [42, 157, 161, 260, 264, 38], [59, 159, 178, 262, 281, 40], [64, 180, 183, 283, 286, 61], [102, 141, 221, 244, 22], [121, 210, 240, 91], [106, 218, 225, 99], [143, 246, 24], [145, 248, 26], [148, 251, 29], [151, 254, 32], [154, 257, 35], [155, 258, 36], [156, 259, 37], [160, 263, 41], [163, 266, 44], [164, 267, 45], [166, 269, 47], [167, 270, 48], [168, 271, 49], [170, 273, 51], [171, 274, 52], [172, 275, 53], [173, 276, 54], [174, 277, 55], [175, 278, 56], [176, 279, 57], [177, 280, 58], [182, 285, 63], [126, 2], [127, 3], [128, 4], [129, 5], [131, 7], [132, 8], [134, 10], [135, 11], [136, 12], [137, 13], [138, 14], [139, 15], [185, 66], [186, 67], [187, 68], [188, 69], [189, 70], [190, 71], [191, 72], [192, 73], [193, 74], [194, 75], [195, 76], [197, 78], [198, 79], [199, 80], [200, 81], [201, 82], [202, 83], [203, 84], [204, 85], [205, 86], [206, 87], [208, 89], [209, 90], [211, 92], [212, 93], [213, 94], [214, 95], [215, 96], [216, 97], [219, 100], [220, 101], [223, 104], [224, 105], [226, 107], [227, 108], [229, 110], [230, 111], [232, 113], [233, 114], [234, 115], [237, 118], [239, 120], [241, 122]]\n"
     ]
    }
   ],
   "source": [
    "print(new_art)"
   ]
  },
  {
   "cell_type": "code",
   "execution_count": 64,
   "metadata": {},
   "outputs": [
    {
     "data": {
      "text/plain": [
       "143    GST 2.0 Will Further Ease Tax Compliances And ...\n",
       "246    GST 2.0 Will Further Ease Tax Compliances And ...\n",
       "24     GST 2.0 Will Further Ease Tax Compliances And ...\n",
       "Name: title, dtype: object"
      ]
     },
     "execution_count": 64,
     "metadata": {},
     "output_type": "execute_result"
    }
   ],
   "source": [
    "articles_to_check = new_art[10]\n",
    "# for all elements in articles_to_check print the title from df as row items\n",
    "pd.DataFrame([df.iloc[i] for i in articles_to_check]).title"
   ]
  },
  {
   "cell_type": "code",
   "execution_count": 1,
   "metadata": {},
   "outputs": [
    {
     "name": "stderr",
     "output_type": "stream",
     "text": [
      "/home/vrushank/newsAggregator/.venv/lib/python3.10/site-packages/tqdm/auto.py:21: TqdmWarning: IProgress not found. Please update jupyter and ipywidgets. See https://ipywidgets.readthedocs.io/en/stable/user_install.html\n",
      "  from .autonotebook import tqdm as notebook_tqdm\n"
     ]
    }
   ],
   "source": [
    "from huggingface_hub import InferenceClient\n",
    "import json\n",
    "import os\n",
    "from dotenv import load_dotenv\n",
    "load_dotenv()\n",
    "\n",
    "DEFAULT_MODEL = \"google/gemma-2-2b-it\"\n",
    "MODEL_TEMPERATURE = 0.3\n",
    "MAX_TOKENS = 4096\n",
    "TOP_P = 0.3"
   ]
  },
  {
   "cell_type": "code",
   "execution_count": 2,
   "metadata": {},
   "outputs": [],
   "source": [
    "client = InferenceClient(api_key=os.getenv('HUGGINGFACE_READ_API_KEY'))"
   ]
  },
  {
   "cell_type": "code",
   "execution_count": 3,
   "metadata": {},
   "outputs": [],
   "source": [
    "titles = [\n",
    "    \"Rise of First Indian Defence Dragon: Big Bang Boom Solutions Raises Rs 250 Crore with a 15x Return to Early Investors\",\n",
    "    \"Sensex, Nifty touch all-time closing high levels amid strong foreign fund inflows\",\n",
    "    \"Yashasvi Jaiswal Eyes Record Breaking Feat As India Gears Up For 2nd Test Against Bangladesh\"\n",
    "]"
   ]
  },
  {
   "cell_type": "code",
   "execution_count": 4,
   "metadata": {},
   "outputs": [],
   "source": [
    "input = f\"\"\"\n",
    "Using the rule of three, convert these three headline into catchy three word titles.\n",
    "Do not use the same word in any of the titles.\n",
    "\n",
    "1. {titles[0]}\n",
    "2. {titles[1]}\n",
    "3. {titles[2]}\n",
    "\n",
    "Return the response as a JSON dictionary.\n",
    "The JSON dictionary should have only one output entry.\n",
    "The dictionary output should only have three keys as 'one', 'two' and 'three'.\n",
    "Each key should have the summary of the corresponding headline.\n",
    "\"\"\""
   ]
  },
  {
   "cell_type": "code",
   "execution_count": 5,
   "metadata": {},
   "outputs": [],
   "source": [
    "messages = [{'role': 'user', 'content': input}]"
   ]
  },
  {
   "cell_type": "code",
   "execution_count": 9,
   "metadata": {},
   "outputs": [],
   "source": [
    "output = client.chat.completions.create(\n",
    "    model = DEFAULT_MODEL,\n",
    "    messages = messages,\n",
    "    temperature=MODEL_TEMPERATURE,\n",
    "    max_tokens=MAX_TOKENS,\n",
    "    top_p=TOP_P\n",
    ")"
   ]
  },
  {
   "cell_type": "code",
   "execution_count": 14,
   "metadata": {},
   "outputs": [
    {
     "name": "stdout",
     "output_type": "stream",
     "text": [
      "ChatCompletionOutput(choices=[ChatCompletionOutputComplete(finish_reason='stop', index=0, message=ChatCompletionOutputMessage(role='assistant', content='```json\\n{\\n  \"one\": \"Indian Defence Boom\",\\n  \"two\": \"Market Hits Record\",\\n  \"three\": \"Jaiswal Sets Record\"\\n}\\n``` \\n', tool_calls=None), logprobs=None)], created=1727205452, id='', model='google/gemma-2-2b-it', system_fingerprint='2.2.1-dev0-sha-e415b69', usage=ChatCompletionOutputUsage(completion_tokens=43, prompt_tokens=165, total_tokens=208))\n",
      "<class 'huggingface_hub.inference._generated.types.chat_completion.ChatCompletionOutput'>\n"
     ]
    }
   ],
   "source": [
    "print(output)\n",
    "print(type(output))"
   ]
  },
  {
   "cell_type": "code",
   "execution_count": 17,
   "metadata": {},
   "outputs": [
    {
     "name": "stdout",
     "output_type": "stream",
     "text": [
      "```json\n",
      "{\n",
      "  \"one\": \"Indian Defence Boom\",\n",
      "  \"two\": \"Market Hits Record\",\n",
      "  \"three\": \"Jaiswal Sets Record\"\n",
      "}\n",
      "``` \n",
      "\n"
     ]
    }
   ],
   "source": [
    "# extract the content of the assistant's response\n",
    "json_output = output['choices'][0]['message']['content']\n",
    "print(json_output)"
   ]
  },
  {
   "cell_type": "code",
   "execution_count": 19,
   "metadata": {},
   "outputs": [
    {
     "name": "stdout",
     "output_type": "stream",
     "text": [
      "\n",
      "{\n",
      "  \"one\": \"Indian Defence Boom\",\n",
      "  \"two\": \"Market Hits Record\",\n",
      "  \"three\": \"Jaiswal Sets Record\"\n",
      "}\n",
      " \n",
      "\n"
     ]
    }
   ],
   "source": [
    "# convert this json output into list of summaries\n",
    "json_output = json_output.replace('`', '')\n",
    "json_output = json_output.replace('json', '')\n",
    "print(json_output)"
   ]
  },
  {
   "cell_type": "code",
   "execution_count": 20,
   "metadata": {},
   "outputs": [
    {
     "name": "stdout",
     "output_type": "stream",
     "text": [
      "['Indian Defence Boom', 'Market Hits Record', 'Jaiswal Sets Record']\n"
     ]
    }
   ],
   "source": [
    "json_output = json.loads(json_output)\n",
    "summaries = [json_output[key] for key in json_output]\n",
    "print(summaries)"
   ]
  },
  {
   "cell_type": "code",
   "execution_count": 21,
   "metadata": {},
   "outputs": [
    {
     "name": "stdout",
     "output_type": "stream",
     "text": [
      "Indian Defence Boom, Market Hits Record, and Jaiswal Sets Record\n"
     ]
    }
   ],
   "source": [
    "# concatenate the summary as a single string as {one}, {two} and {three}\n",
    "summary = summaries[0] + ', ' + summaries[1] + ', and ' + summaries[2]\n",
    "print(summary)"
   ]
  },
  {
   "cell_type": "code",
   "execution_count": null,
   "metadata": {},
   "outputs": [],
   "source": []
  }
 ],
 "metadata": {
  "kernelspec": {
   "display_name": ".venv",
   "language": "python",
   "name": "python3"
  },
  "language_info": {
   "codemirror_mode": {
    "name": "ipython",
    "version": 3
   },
   "file_extension": ".py",
   "mimetype": "text/x-python",
   "name": "python",
   "nbconvert_exporter": "python",
   "pygments_lexer": "ipython3",
   "version": "3.10.12"
  }
 },
 "nbformat": 4,
 "nbformat_minor": 2
}
