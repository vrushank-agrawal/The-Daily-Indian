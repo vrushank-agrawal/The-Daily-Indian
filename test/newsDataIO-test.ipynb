{
 "cells": [
  {
   "cell_type": "code",
   "execution_count": 1,
   "metadata": {},
   "outputs": [],
   "source": [
    "import json\n",
    "import pandas as pd\n",
    "\n",
    "with open('../../data/newsdataio/sentiment-analysis-output.json') as f:\n",
    "    data = json.load(f)"
   ]
  },
  {
   "cell_type": "code",
   "execution_count": 2,
   "metadata": {},
   "outputs": [],
   "source": [
    "df = pd.DataFrame(data)"
   ]
  },
  {
   "cell_type": "code",
   "execution_count": 3,
   "metadata": {},
   "outputs": [],
   "source": [
    "df = df[df['country'].apply(len) == 1]\n",
    "df = df.reset_index(drop=True)"
   ]
  },
  {
   "cell_type": "code",
   "execution_count": 4,
   "metadata": {},
   "outputs": [
    {
     "data": {
      "text/plain": [
       "143"
      ]
     },
     "execution_count": 4,
     "metadata": {},
     "output_type": "execute_result"
    }
   ],
   "source": [
    "len(df)"
   ]
  },
  {
   "cell_type": "code",
   "execution_count": 5,
   "metadata": {},
   "outputs": [],
   "source": [
    "df = df.drop(columns=['ai_tag', 'ai_region', 'ai_org', 'content', 'image_url', 'source_icon', 'video_url', 'country', 'language', 'sentiment_stats', 'source_id', 'source_url', 'creator', 'article_id', 'pubDateTZ', 'duplicate'])\n",
    "articles = df.to_dict('records')"
   ]
  },
  {
   "cell_type": "code",
   "execution_count": 6,
   "metadata": {},
   "outputs": [
    {
     "data": {
      "text/plain": [
       "143"
      ]
     },
     "execution_count": 6,
     "metadata": {},
     "output_type": "execute_result"
    }
   ],
   "source": [
    "len(articles)"
   ]
  },
  {
   "cell_type": "code",
   "execution_count": 7,
   "metadata": {},
   "outputs": [
    {
     "data": {
      "text/plain": [
       "category\n",
       "[top]                          102\n",
       "[sports]                        13\n",
       "[business]                       8\n",
       "[entertainment]                  7\n",
       "[world]                          4\n",
       "[technology]                     3\n",
       "[other]                          1\n",
       "[education]                      1\n",
       "[politics]                       1\n",
       "[health]                         1\n",
       "[technology, entertainment]      1\n",
       "[food]                           1\n",
       "Name: count, dtype: int64"
      ]
     },
     "execution_count": 7,
     "metadata": {},
     "output_type": "execute_result"
    }
   ],
   "source": [
    "# find the frequency of articles from category\n",
    "df.category.value_counts()"
   ]
  },
  {
   "cell_type": "code",
   "execution_count": 8,
   "metadata": {},
   "outputs": [
    {
     "data": {
      "text/plain": [
       "sentiment\n",
       "neutral                                               72\n",
       "ONLY AVAILABLE IN PROFESSIONAL AND CORPORATE PLANS    38\n",
       "negative                                              19\n",
       "positive                                              14\n",
       "Name: count, dtype: int64"
      ]
     },
     "execution_count": 8,
     "metadata": {},
     "output_type": "execute_result"
    }
   ],
   "source": [
    "df.sentiment.value_counts()"
   ]
  },
  {
   "cell_type": "code",
   "execution_count": 11,
   "metadata": {},
   "outputs": [
    {
     "data": {
      "text/plain": [
       "source_name\n",
       "Latestly                  23\n",
       "The Times Of India        15\n",
       "The Hindu                 11\n",
       "Business Standard         10\n",
       "Google News                8\n",
       "Star Of Mysore             7\n",
       "Theprint                   6\n",
       "Hindustan Times            5\n",
       "Newsbytes                  5\n",
       "The Free Press Journal     5\n",
       "Telangana Today            4\n",
       "Mint                       3\n",
       "Daily Excelsior            3\n",
       "Asianet Newsable           3\n",
       "Ndtv                       3\n",
       "News 18                    3\n",
       "The Economic Times         2\n",
       "In Ign                     2\n",
       "Siasat.com                 2\n",
       "The Munsif Daily           2\n",
       "Sport Star The Hindu       2\n",
       "Abp News                   1\n",
       "India                      1\n",
       "Business Insider India     1\n",
       "Mathrubhumi English        1\n",
       "Outlook                    1\n",
       "Frontline Thehindu         1\n",
       "Tng News                   1\n",
       "The Sentinel               1\n",
       "The Hans India             1\n",
       "News9live                  1\n",
       "Gsm Arena                  1\n",
       "Onmanorama                 1\n",
       "Organiser Weekly           1\n",
       "Dna                        1\n",
       "News Blare                 1\n",
       "Espncricinfo               1\n",
       "Thehealthsite              1\n",
       "Odisha Tv                  1\n",
       "The New Indian Express     1\n",
       "Name: count, dtype: int64"
      ]
     },
     "execution_count": 11,
     "metadata": {},
     "output_type": "execute_result"
    }
   ],
   "source": [
    "# give the names of sources\n",
    "df.source_name.value_counts()"
   ]
  },
  {
   "cell_type": "code",
   "execution_count": 13,
   "metadata": {},
   "outputs": [
    {
     "data": {
      "text/html": [
       "<div>\n",
       "<style scoped>\n",
       "    .dataframe tbody tr th:only-of-type {\n",
       "        vertical-align: middle;\n",
       "    }\n",
       "\n",
       "    .dataframe tbody tr th {\n",
       "        vertical-align: top;\n",
       "    }\n",
       "\n",
       "    .dataframe thead th {\n",
       "        text-align: right;\n",
       "    }\n",
       "</style>\n",
       "<table border=\"1\" class=\"dataframe\">\n",
       "  <thead>\n",
       "    <tr style=\"text-align: right;\">\n",
       "      <th></th>\n",
       "      <th>source_name</th>\n",
       "      <th>source_priority</th>\n",
       "    </tr>\n",
       "  </thead>\n",
       "  <tbody>\n",
       "    <tr>\n",
       "      <th>46</th>\n",
       "      <td>Google News</td>\n",
       "      <td>14</td>\n",
       "    </tr>\n",
       "    <tr>\n",
       "      <th>52</th>\n",
       "      <td>In Ign</td>\n",
       "      <td>149</td>\n",
       "    </tr>\n",
       "    <tr>\n",
       "      <th>9</th>\n",
       "      <td>The Economic Times</td>\n",
       "      <td>231</td>\n",
       "    </tr>\n",
       "    <tr>\n",
       "      <th>5</th>\n",
       "      <td>The Times Of India</td>\n",
       "      <td>391</td>\n",
       "    </tr>\n",
       "    <tr>\n",
       "      <th>33</th>\n",
       "      <td>Hindustan Times</td>\n",
       "      <td>933</td>\n",
       "    </tr>\n",
       "    <tr>\n",
       "      <th>43</th>\n",
       "      <td>Outlook</td>\n",
       "      <td>1033</td>\n",
       "    </tr>\n",
       "    <tr>\n",
       "      <th>111</th>\n",
       "      <td>Espncricinfo</td>\n",
       "      <td>1162</td>\n",
       "    </tr>\n",
       "    <tr>\n",
       "      <th>31</th>\n",
       "      <td>Ndtv</td>\n",
       "      <td>1204</td>\n",
       "    </tr>\n",
       "    <tr>\n",
       "      <th>50</th>\n",
       "      <td>Gsm Arena</td>\n",
       "      <td>1423</td>\n",
       "    </tr>\n",
       "    <tr>\n",
       "      <th>27</th>\n",
       "      <td>Frontline Thehindu</td>\n",
       "      <td>1539</td>\n",
       "    </tr>\n",
       "    <tr>\n",
       "      <th>0</th>\n",
       "      <td>The Hindu</td>\n",
       "      <td>2972</td>\n",
       "    </tr>\n",
       "    <tr>\n",
       "      <th>37</th>\n",
       "      <td>Sport Star The Hindu</td>\n",
       "      <td>2972</td>\n",
       "    </tr>\n",
       "    <tr>\n",
       "      <th>25</th>\n",
       "      <td>Business Insider India</td>\n",
       "      <td>6525</td>\n",
       "    </tr>\n",
       "    <tr>\n",
       "      <th>38</th>\n",
       "      <td>News 18</td>\n",
       "      <td>6644</td>\n",
       "    </tr>\n",
       "    <tr>\n",
       "      <th>1</th>\n",
       "      <td>Mint</td>\n",
       "      <td>7134</td>\n",
       "    </tr>\n",
       "    <tr>\n",
       "      <th>6</th>\n",
       "      <td>Asianet Newsable</td>\n",
       "      <td>7749</td>\n",
       "    </tr>\n",
       "    <tr>\n",
       "      <th>26</th>\n",
       "      <td>India</td>\n",
       "      <td>8067</td>\n",
       "    </tr>\n",
       "    <tr>\n",
       "      <th>2</th>\n",
       "      <td>Business Standard</td>\n",
       "      <td>9158</td>\n",
       "    </tr>\n",
       "    <tr>\n",
       "      <th>4</th>\n",
       "      <td>Abp News</td>\n",
       "      <td>10959</td>\n",
       "    </tr>\n",
       "    <tr>\n",
       "      <th>115</th>\n",
       "      <td>Thehealthsite</td>\n",
       "      <td>13386</td>\n",
       "    </tr>\n",
       "    <tr>\n",
       "      <th>7</th>\n",
       "      <td>Theprint</td>\n",
       "      <td>14094</td>\n",
       "    </tr>\n",
       "    <tr>\n",
       "      <th>127</th>\n",
       "      <td>The New Indian Express</td>\n",
       "      <td>15406</td>\n",
       "    </tr>\n",
       "    <tr>\n",
       "      <th>69</th>\n",
       "      <td>Onmanorama</td>\n",
       "      <td>16247</td>\n",
       "    </tr>\n",
       "    <tr>\n",
       "      <th>79</th>\n",
       "      <td>Dna</td>\n",
       "      <td>18388</td>\n",
       "    </tr>\n",
       "    <tr>\n",
       "      <th>45</th>\n",
       "      <td>Mathrubhumi English</td>\n",
       "      <td>29098</td>\n",
       "    </tr>\n",
       "    <tr>\n",
       "      <th>58</th>\n",
       "      <td>Siasat.com</td>\n",
       "      <td>30879</td>\n",
       "    </tr>\n",
       "    <tr>\n",
       "      <th>3</th>\n",
       "      <td>Latestly</td>\n",
       "      <td>31923</td>\n",
       "    </tr>\n",
       "    <tr>\n",
       "      <th>22</th>\n",
       "      <td>The Hans India</td>\n",
       "      <td>58957</td>\n",
       "    </tr>\n",
       "    <tr>\n",
       "      <th>124</th>\n",
       "      <td>Odisha Tv</td>\n",
       "      <td>62016</td>\n",
       "    </tr>\n",
       "    <tr>\n",
       "      <th>13</th>\n",
       "      <td>Telangana Today</td>\n",
       "      <td>63887</td>\n",
       "    </tr>\n",
       "    <tr>\n",
       "      <th>19</th>\n",
       "      <td>The Free Press Journal</td>\n",
       "      <td>83130</td>\n",
       "    </tr>\n",
       "    <tr>\n",
       "      <th>20</th>\n",
       "      <td>The Sentinel</td>\n",
       "      <td>177615</td>\n",
       "    </tr>\n",
       "    <tr>\n",
       "      <th>65</th>\n",
       "      <td>News9live</td>\n",
       "      <td>193096</td>\n",
       "    </tr>\n",
       "    <tr>\n",
       "      <th>68</th>\n",
       "      <td>Organiser Weekly</td>\n",
       "      <td>216805</td>\n",
       "    </tr>\n",
       "    <tr>\n",
       "      <th>98</th>\n",
       "      <td>Newsbytes</td>\n",
       "      <td>309848</td>\n",
       "    </tr>\n",
       "    <tr>\n",
       "      <th>16</th>\n",
       "      <td>Tng News</td>\n",
       "      <td>321007</td>\n",
       "    </tr>\n",
       "    <tr>\n",
       "      <th>75</th>\n",
       "      <td>Star Of Mysore</td>\n",
       "      <td>409045</td>\n",
       "    </tr>\n",
       "    <tr>\n",
       "      <th>67</th>\n",
       "      <td>Daily Excelsior</td>\n",
       "      <td>693953</td>\n",
       "    </tr>\n",
       "    <tr>\n",
       "      <th>78</th>\n",
       "      <td>News Blare</td>\n",
       "      <td>1026586</td>\n",
       "    </tr>\n",
       "    <tr>\n",
       "      <th>82</th>\n",
       "      <td>The Munsif Daily</td>\n",
       "      <td>1196600</td>\n",
       "    </tr>\n",
       "  </tbody>\n",
       "</table>\n",
       "</div>"
      ],
      "text/plain": [
       "                source_name  source_priority\n",
       "46              Google News               14\n",
       "52                   In Ign              149\n",
       "9        The Economic Times              231\n",
       "5        The Times Of India              391\n",
       "33          Hindustan Times              933\n",
       "43                  Outlook             1033\n",
       "111            Espncricinfo             1162\n",
       "31                     Ndtv             1204\n",
       "50                Gsm Arena             1423\n",
       "27       Frontline Thehindu             1539\n",
       "0                 The Hindu             2972\n",
       "37     Sport Star The Hindu             2972\n",
       "25   Business Insider India             6525\n",
       "38                  News 18             6644\n",
       "1                      Mint             7134\n",
       "6          Asianet Newsable             7749\n",
       "26                    India             8067\n",
       "2         Business Standard             9158\n",
       "4                  Abp News            10959\n",
       "115           Thehealthsite            13386\n",
       "7                  Theprint            14094\n",
       "127  The New Indian Express            15406\n",
       "69               Onmanorama            16247\n",
       "79                      Dna            18388\n",
       "45      Mathrubhumi English            29098\n",
       "58               Siasat.com            30879\n",
       "3                  Latestly            31923\n",
       "22           The Hans India            58957\n",
       "124               Odisha Tv            62016\n",
       "13          Telangana Today            63887\n",
       "19   The Free Press Journal            83130\n",
       "20             The Sentinel           177615\n",
       "65                News9live           193096\n",
       "68         Organiser Weekly           216805\n",
       "98                Newsbytes           309848\n",
       "16                 Tng News           321007\n",
       "75           Star Of Mysore           409045\n",
       "67          Daily Excelsior           693953\n",
       "78               News Blare          1026586\n",
       "82         The Munsif Daily          1196600"
      ]
     },
     "execution_count": 13,
     "metadata": {},
     "output_type": "execute_result"
    }
   ],
   "source": [
    "# Give the unique source names sorted by the source_priority column values in descending order\n",
    "df[['source_name', 'source_priority']].drop_duplicates().sort_values(by='source_priority', ascending=True)"
   ]
  },
  {
   "cell_type": "code",
   "execution_count": 16,
   "metadata": {},
   "outputs": [
    {
     "data": {
      "text/plain": [
       "13    None\n",
       "Name: description, dtype: object"
      ]
     },
     "execution_count": 16,
     "metadata": {},
     "output_type": "execute_result"
    }
   ],
   "source": [
    "with open('../../data/newsdataio/articles-cleaned.json', 'r') as f:\n",
    "    data = json.load(f)\n",
    "\n",
    "data = pd.DataFrame(data)\n",
    "# find the value of description for the link col value below\n",
    "# https://www.freepressjournal.in/sports/delhi-capitals-x-account-gets-hacked-netizens-react-to-weird-post-before-getting-deleted\n",
    "\n",
    "data[data['link'] == 'https://www.freepressjournal.in/sports/delhi-capitals-x-account-gets-hacked-netizens-react-to-weird-post-before-getting-deleted']['description']"
   ]
  },
  {
   "cell_type": "code",
   "execution_count": 17,
   "metadata": {},
   "outputs": [],
   "source": [
    "# how can i remove values where the description is null\n",
    "data = data.dropna(subset=['description'])"
   ]
  },
  {
   "cell_type": "code",
   "execution_count": 18,
   "metadata": {},
   "outputs": [
    {
     "data": {
      "text/plain": [
       "Series([], Name: description, dtype: object)"
      ]
     },
     "execution_count": 18,
     "metadata": {},
     "output_type": "execute_result"
    }
   ],
   "source": [
    "data[data['link'] == 'https://www.freepressjournal.in/sports/delhi-capitals-x-account-gets-hacked-netizens-react-to-weird-post-before-getting-deleted']['description']\n"
   ]
  },
  {
   "cell_type": "code",
   "execution_count": null,
   "metadata": {},
   "outputs": [],
   "source": []
  }
 ],
 "metadata": {
  "kernelspec": {
   "display_name": ".venv",
   "language": "python",
   "name": "python3"
  },
  "language_info": {
   "codemirror_mode": {
    "name": "ipython",
    "version": 3
   },
   "file_extension": ".py",
   "mimetype": "text/x-python",
   "name": "python",
   "nbconvert_exporter": "python",
   "pygments_lexer": "ipython3",
   "version": "3.10.12"
  }
 },
 "nbformat": 4,
 "nbformat_minor": 2
}
